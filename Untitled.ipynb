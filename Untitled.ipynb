{
 "cells": [
  {
   "cell_type": "code",
   "execution_count": 10,
   "id": "loose-crash",
   "metadata": {
    "ExecuteTime": {
     "end_time": "2021-03-19T14:09:42.731857Z",
     "start_time": "2021-03-19T14:09:42.631504Z"
    }
   },
   "outputs": [
    {
     "name": "stdout",
     "output_type": "stream",
     "text": [
      "{'ok': 'True'}\n"
     ]
    }
   ],
   "source": [
    "import requests\n",
    "\n",
    "url = 'https://cloudruntry-cb57u5rl5q-ew.a.run.app'\n",
    "\n",
    "response = requests.get(url).json()\n",
    "\n",
    "print(response)"
   ]
  },
  {
   "cell_type": "code",
   "execution_count": 3,
   "id": "amber-reviewer",
   "metadata": {
    "ExecuteTime": {
     "end_time": "2021-03-19T14:03:36.550736Z",
     "start_time": "2021-03-19T14:03:36.544895Z"
    }
   },
   "outputs": [],
   "source": [
    "# pick-up day\n",
    "pickup_day = '2021-03-19'"
   ]
  },
  {
   "cell_type": "code",
   "execution_count": 4,
   "id": "interested-jerusalem",
   "metadata": {
    "ExecuteTime": {
     "end_time": "2021-03-19T14:03:37.486339Z",
     "start_time": "2021-03-19T14:03:37.480029Z"
    }
   },
   "outputs": [],
   "source": [
    "pickup_time = '14:51:11.314803'"
   ]
  },
  {
   "cell_type": "code",
   "execution_count": 37,
   "id": "isolated-transformation",
   "metadata": {
    "ExecuteTime": {
     "end_time": "2021-03-19T14:38:43.046274Z",
     "start_time": "2021-03-19T14:38:43.034533Z"
    }
   },
   "outputs": [
    {
     "data": {
      "text/plain": [
       "str"
      ]
     },
     "execution_count": 37,
     "metadata": {},
     "output_type": "execute_result"
    }
   ],
   "source": [
    "pickup_datetime = pickup_day + ' ' + pickup_time + ' UTC'\n",
    "type(pickup_datetime)"
   ]
  },
  {
   "cell_type": "code",
   "execution_count": 35,
   "id": "integral-hawaii",
   "metadata": {
    "ExecuteTime": {
     "end_time": "2021-03-19T14:37:06.223538Z",
     "start_time": "2021-03-19T14:37:06.203261Z"
    }
   },
   "outputs": [
    {
     "ename": "AttributeError",
     "evalue": "module 'datetime' has no attribute 'strptime'",
     "output_type": "error",
     "traceback": [
      "\u001b[0;31m---------------------------------------------------------------------------\u001b[0m",
      "\u001b[0;31mAttributeError\u001b[0m                            Traceback (most recent call last)",
      "\u001b[0;32m<ipython-input-35-6b087af5cb7a>\u001b[0m in \u001b[0;36m<module>\u001b[0;34m\u001b[0m\n\u001b[1;32m      1\u001b[0m \u001b[0;32mimport\u001b[0m \u001b[0mdatetime\u001b[0m\u001b[0;34m\u001b[0m\u001b[0;34m\u001b[0m\u001b[0m\n\u001b[1;32m      2\u001b[0m \u001b[0;34m\u001b[0m\u001b[0m\n\u001b[0;32m----> 3\u001b[0;31m \u001b[0mdatetime\u001b[0m\u001b[0;34m.\u001b[0m\u001b[0mstrptime\u001b[0m\u001b[0;34m(\u001b[0m\u001b[0mpickup_datetime\u001b[0m\u001b[0;34m,\u001b[0m\u001b[0;34m'%d/%m/%y %H:%M:%S'\u001b[0m\u001b[0;34m)\u001b[0m\u001b[0;34m\u001b[0m\u001b[0;34m\u001b[0m\u001b[0m\n\u001b[0m",
      "\u001b[0;31mAttributeError\u001b[0m: module 'datetime' has no attribute 'strptime'"
     ]
    }
   ],
   "source": []
  },
  {
   "cell_type": "code",
   "execution_count": 23,
   "id": "exact-import",
   "metadata": {
    "ExecuteTime": {
     "end_time": "2021-03-19T14:32:06.932252Z",
     "start_time": "2021-03-19T14:32:06.914878Z"
    }
   },
   "outputs": [
    {
     "data": {
      "text/plain": [
       "{'key': ['NA'],\n",
       " 'pickup_datetime': ['2021-03-19 14:51:11.314803 UTC'],\n",
       " 'pickup_longitude': [40.7],\n",
       " 'pickup_latitude': [-73.9],\n",
       " 'dropoff_longitude': [40.03],\n",
       " 'dropoff_latitude': [-73.03],\n",
       " 'passenger_count': [1]}"
      ]
     },
     "execution_count": 23,
     "metadata": {},
     "output_type": "execute_result"
    }
   ],
   "source": [
    "import pandas as pd\n",
    "\n",
    "key = 'NA'\n",
    "pickup_longitude = '40.7'\n",
    "pickup_latitude = '-73.9'\n",
    "dropoff_longitude = '40.03'\n",
    "dropoff_latitude = '-73.03'\n",
    "passenger_count = '1'\n",
    "\n",
    "X = dict(\n",
    "        key=[key],\n",
    "        pickup_datetime=[pickup_datetime],\n",
    "        pickup_longitude=[float(pickup_longitude)],\n",
    "        pickup_latitude=[float(pickup_latitude)],\n",
    "        dropoff_longitude=[float(dropoff_longitude)],\n",
    "        dropoff_latitude=[float(dropoff_latitude)],\n",
    "        passenger_count=[int(passenger_count)])\n",
    "\n",
    "X"
   ]
  },
  {
   "cell_type": "code",
   "execution_count": 39,
   "id": "complex-parts",
   "metadata": {
    "ExecuteTime": {
     "end_time": "2021-03-19T14:50:19.291605Z",
     "start_time": "2021-03-19T14:50:19.171622Z"
    }
   },
   "outputs": [
    {
     "name": "stdout",
     "output_type": "stream",
     "text": [
      "{'prediction': 186.13990089876478}\n"
     ]
    }
   ],
   "source": [
    "url_2 = \"https://cloudruntry-cb57u5rl5q-ew.a.run.app/predict_fare/\"\n",
    "\n",
    "response_predict = requests.get(url_2, params=X).json()\n",
    "\n",
    "print(response_predict)"
   ]
  }
 ],
 "metadata": {
  "hide_input": false,
  "kernelspec": {
   "display_name": "Python 3",
   "language": "python",
   "name": "python3"
  },
  "language_info": {
   "codemirror_mode": {
    "name": "ipython",
    "version": 3
   },
   "file_extension": ".py",
   "mimetype": "text/x-python",
   "name": "python",
   "nbconvert_exporter": "python",
   "pygments_lexer": "ipython3",
   "version": "3.8.6"
  },
  "toc": {
   "base_numbering": 1,
   "nav_menu": {},
   "number_sections": true,
   "sideBar": true,
   "skip_h1_title": false,
   "title_cell": "Table of Contents",
   "title_sidebar": "Contents",
   "toc_cell": false,
   "toc_position": {},
   "toc_section_display": true,
   "toc_window_display": false
  },
  "varInspector": {
   "cols": {
    "lenName": 16,
    "lenType": 16,
    "lenVar": 40
   },
   "kernels_config": {
    "python": {
     "delete_cmd_postfix": "",
     "delete_cmd_prefix": "del ",
     "library": "var_list.py",
     "varRefreshCmd": "print(var_dic_list())"
    },
    "r": {
     "delete_cmd_postfix": ") ",
     "delete_cmd_prefix": "rm(",
     "library": "var_list.r",
     "varRefreshCmd": "cat(var_dic_list()) "
    }
   },
   "types_to_exclude": [
    "module",
    "function",
    "builtin_function_or_method",
    "instance",
    "_Feature"
   ],
   "window_display": false
  }
 },
 "nbformat": 4,
 "nbformat_minor": 5
}
